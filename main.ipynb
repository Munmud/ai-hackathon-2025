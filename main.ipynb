{
 "cells": [
  {
   "cell_type": "code",
   "execution_count": 1,
   "metadata": {},
   "outputs": [],
   "source": [
    "\n",
    "# Intent-Based Product Search System\n",
    "# AI Hackathon Implementation\n",
    "\n",
    "import warnings\n",
    "warnings.filterwarnings('ignore')\n",
    "import pandas as pd\n",
    "import numpy as np\n",
    "import torch\n",
    "import matplotlib.pyplot as plt\n",
    "import seaborn as sns\n",
    "from sklearn.model_selection import train_test_split\n",
    "from sklearn.metrics import accuracy_score, precision_recall_fscore_support, classification_report\n",
    "from transformers import AutoTokenizer, AutoModel, get_linear_schedule_with_warmup\n",
    "from torch.utils.data import DataLoader, Dataset\n",
    "from datasets import load_dataset\n",
    "from tqdm.notebook import tqdm\n",
    "import torch.nn as nn\n",
    "from torch.optim import AdamW\n"
   ]
  },
  {
   "cell_type": "code",
   "execution_count": 2,
   "metadata": {},
   "outputs": [
    {
     "name": "stdout",
     "output_type": "stream",
     "text": [
      "Using device: cpu\n"
     ]
    }
   ],
   "source": [
    "# Check if CUDA is available\n",
    "device = torch.device(\"cuda\" if torch.cuda.is_available() else \"cpu\")\n",
    "print(f\"Using device: {device}\")"
   ]
  },
  {
   "cell_type": "code",
   "execution_count": 3,
   "metadata": {},
   "outputs": [
    {
     "name": "stdout",
     "output_type": "stream",
     "text": [
      "Loading WDC Products 2017 dataset...\n",
      "DatasetDict({\n",
      "    train: Dataset({\n",
      "        features: ['pair_id', 'label', 'id_left', 'category_left', 'cluster_id_left', 'brand_left', 'title_left', 'description_left', 'price_left', 'specTableContent_left', 'id_right', 'category_right', 'cluster_id_right', 'brand_right', 'title_right', 'description_right', 'price_right', 'specTableContent_right'],\n",
      "        num_rows: 6475\n",
      "    })\n",
      "    test: Dataset({\n",
      "        features: ['pair_id', 'label', 'id_left', 'category_left', 'cluster_id_left', 'brand_left', 'title_left', 'description_left', 'price_left', 'specTableContent_left', 'id_right', 'category_right', 'cluster_id_right', 'brand_right', 'title_right', 'description_right', 'price_right', 'specTableContent_right'],\n",
      "        num_rows: 1100\n",
      "    })\n",
      "    validation: Dataset({\n",
      "        features: ['pair_id', 'label', 'id_left', 'category_left', 'cluster_id_left', 'brand_left', 'title_left', 'description_left', 'price_left', 'specTableContent_left', 'id_right', 'category_right', 'cluster_id_right', 'brand_right', 'title_right', 'description_right', 'price_right', 'specTableContent_right'],\n",
      "        num_rows: 1619\n",
      "    })\n",
      "})\n"
     ]
    }
   ],
   "source": [
    "# 1. Load and Explore the Dataset\n",
    "print(\"Loading WDC Products 2017 dataset...\")\n",
    "dataset = load_dataset(\"wdc/products-2017\", trust_remote_code=True) \n",
    "\n",
    "# Print dataset info\n",
    "print(dataset)"
   ]
  },
  {
   "cell_type": "code",
   "execution_count": 4,
   "metadata": {},
   "outputs": [
    {
     "name": "stdout",
     "output_type": "stream",
     "text": [
      "\n",
      "Training Data Sample:\n",
      "             pair_id  label   id_left              category_left  \\\n",
      "0  14219585#11723285      0  14219585  Computers_and_Accessories   \n",
      "1  12092252#16476204      0  12092252  Computers_and_Accessories   \n",
      "2  10693245#16856034      1  10693245  Computers_and_Accessories   \n",
      "3    2042153#7421086      0   2042153  Computers_and_Accessories   \n",
      "4  11210178#16709272      1  11210178  Computers_and_Accessories   \n",
      "\n",
      "   cluster_id_left       brand_left  \\\n",
      "0           521249             None   \n",
      "1           222681  \"HP Enterprise\"   \n",
      "2          1404813             None   \n",
      "3           212917            \"MIO\"   \n",
      "4           150997            \"MSI\"   \n",
      "\n",
      "                                          title_left  \\\n",
      "0   \"Apple - Mac Pro Desktop Computer 6-Core Inte...   \n",
      "1   \"DG0300FARVV HP 300-GB 6G 10K 2.5 DP SAS\", \"N...   \n",
      "2   \"HP BL460c G7 Intel Xeon E5607 Processor Kit ...   \n",
      "3   \"MIO SD1GB-C230 BXP 1GB 9p SD Secure Digital ...   \n",
      "4   \"MSI - GeForce GTX 1080 8GB GAMING X 8G Video...   \n",
      "\n",
      "                                    description_left     price_left  \\\n",
      "0  \"Apple Mac Pro MD878LL/A Desktop: Designed for...           None   \n",
      "1  \"Description:2 x 300GB 2.5-inch Serial Attache...           None   \n",
      "2                                               None           None   \n",
      "3   \"SD1GB-C230 BXP 1GB 9p SD Secure Digital Card...  \"USD\", \"4.85\"   \n",
      "4                                               None           None   \n",
      "\n",
      "                               specTableContent_left  id_right  \\\n",
      "0                                               None  11723285   \n",
      "1   Specifications: Category Proliant HardDrive S...  16476204   \n",
      "2   Categorie Processors Merk HP Product HP BL460...  16856034   \n",
      "3                                               None   7421086   \n",
      "4                                               None  16709272   \n",
      "\n",
      "              category_right  cluster_id_right      brand_right  \\\n",
      "0  Computers_and_Accessories           9835048  \"HP Enterprise\"   \n",
      "1  Computers_and_Accessories             63553  \"HP Enterprise\"   \n",
      "2  Computers_and_Accessories           1404813  \"HP Enterprise\"   \n",
      "3  Computers_and_Accessories           1441832             \"HP\"   \n",
      "4  Computers_and_Accessories            150997             None   \n",
      "\n",
      "                                         title_right  \\\n",
      "0   \"COMPAQ PL ML530R G3 Xeon 3.0GHz 1GB\", \"Null\"...   \n",
      "1    \"DH0072BALWL HP 72-GB 3G 15K 2.5 DP SAS\" \"Null\"   \n",
      "2   \"637414-B21 HP Xeon E5607 2.26GHz BL460c G7 \"...   \n",
      "3   \"HP 358348-B21 ADJ 1GB 184p PC2700 CL2.5 18c ...   \n",
      "4                     \"nVidia GTX 1080 Gaming X 8Go\"   \n",
      "\n",
      "                                   description_right           price_right  \\\n",
      "0  \"Description:\\n271246-001  Proliant Xeon 3.0GH...                  None   \n",
      "1   \"Description:10 x 72GB 2.5-inch Serial Attach...  \"CAD\", \"$757.74 CAD\"   \n",
      "2  \"Description:HP Intelï¿½ Xeonï¿½ E5607 BL460c ...                  None   \n",
      "3   \"358348-B21 ADJ 1GB 184p PC2700 CL2.5 18c 128...        \"USD\", \"13.98\"   \n",
      "4  \"MSI GeForce GTX 1080 Gaming X 8G, Actif, ATX,...                  None   \n",
      "\n",
      "                              specTableContent_right  \n",
      "0                                               None  \n",
      "1   Specifications: Category Proliant HardDrive S...  \n",
      "2   Specifications: Category Proliant Processor S...  \n",
      "3                                               None  \n",
      "4                                               None  \n"
     ]
    }
   ],
   "source": [
    "# Let's look at the training data\n",
    "# train_df = pd.DataFrame(dataset['train'])\n",
    "\n",
    "# Take only the first 100 rows of the training data\n",
    "train_df = pd.DataFrame(dataset['train'][:100])\n",
    "\n",
    "print(\"\\nTraining Data Sample:\")\n",
    "print(train_df.head())"
   ]
  },
  {
   "cell_type": "code",
   "execution_count": 5,
   "metadata": {},
   "outputs": [
    {
     "name": "stdout",
     "output_type": "stream",
     "text": [
      "\n",
      "Available columns in the dataset: ['pair_id', 'label', 'id_left', 'category_left', 'cluster_id_left', 'brand_left', 'title_left', 'description_left', 'price_left', 'specTableContent_left', 'id_right', 'category_right', 'cluster_id_right', 'brand_right', 'title_right', 'description_right', 'price_right', 'specTableContent_right']\n",
      "\n",
      "Filtered training data columns:\n",
      "Index(['label', 'id_left', 'category_left', 'cluster_id_left', 'brand_left',\n",
      "       'title_left', 'description_left', 'price_left',\n",
      "       'specTableContent_left'],\n",
      "      dtype='object')\n"
     ]
    }
   ],
   "source": [
    "\n",
    "\n",
    "# Select the required columns\n",
    "required_columns = ['label', 'id_left', 'category_left', 'cluster_id_left', 'brand_left', \n",
    "                   'title_left', 'description_left', 'price_left', 'specTableContent_left']\n",
    "\n",
    "# Check if all required columns exist in the dataset\n",
    "all_columns = train_df.columns.tolist()\n",
    "print(\"\\nAvailable columns in the dataset:\", all_columns)\n",
    "\n",
    "# Filter the dataframe to keep only the required columns\n",
    "if all(col in all_columns for col in required_columns):\n",
    "    filtered_train_df = train_df[required_columns]\n",
    "    print(\"\\nFiltered training data columns:\")\n",
    "    print(filtered_train_df.columns)\n",
    "else:\n",
    "    missing_cols = [col for col in required_columns if col not in all_columns]\n",
    "    print(f\"\\nWarning: Missing columns: {missing_cols}\")\n",
    "    # Use only available columns from the required list\n",
    "    available_required_cols = [col for col in required_columns if col in all_columns]\n",
    "    filtered_train_df = train_df[available_required_cols]\n",
    "    print(\"\\nProceeding with available columns:\")\n",
    "    print(filtered_train_df.columns)"
   ]
  },
  {
   "cell_type": "code",
   "execution_count": 6,
   "metadata": {},
   "outputs": [],
   "source": [
    "train_df.columns = [col.replace('_left', '') for col in train_df.columns]\n",
    "\n",
    "columns_to_keep = [\n",
    "    'label', 'id', 'category', 'cluster_id', 'brand',\n",
    "    'title', 'description', 'price', 'specTableContent'\n",
    "]\n",
    "train_df = train_df[columns_to_keep]"
   ]
  },
  {
   "cell_type": "code",
   "execution_count": 7,
   "metadata": {},
   "outputs": [
    {
     "name": "stdout",
     "output_type": "stream",
     "text": [
      "\n",
      "Data Information:\n",
      "Training data shape: (100, 9)\n",
      "\n",
      "Descriptive Statistics:\n",
      "             label       id_left              category_left  cluster_id_left  \\\n",
      "count   100.000000  1.000000e+02                        100     1.000000e+02   \n",
      "unique         NaN           NaN                          5              NaN   \n",
      "top            NaN           NaN  Computers_and_Accessories              NaN   \n",
      "freq           NaN           NaN                         95              NaN   \n",
      "mean      0.140000  1.066210e+07                        NaN     3.632670e+06   \n",
      "std       0.348735  5.301614e+06                        NaN     5.169345e+06   \n",
      "min       0.000000  1.043300e+04                        NaN     3.209000e+03   \n",
      "25%       0.000000  6.500062e+06                        NaN     2.925412e+05   \n",
      "50%       0.000000  1.179599e+07                        NaN     6.096160e+05   \n",
      "75%       0.000000  1.530262e+07                        NaN     7.529747e+06   \n",
      "max       1.000000  1.754897e+07                        NaN     1.622516e+07   \n",
      "\n",
      "             brand_left                                         title_left  \\\n",
      "count                59                                                100   \n",
      "unique               32                                                 99   \n",
      "top     \"HP Enterprise\"   \"Gigabyte Radeon RX 580 Gaming 4096MB GDDR5 P...   \n",
      "freq                 19                                                  2   \n",
      "mean                NaN                                                NaN   \n",
      "std                 NaN                                                NaN   \n",
      "min                 NaN                                                NaN   \n",
      "25%                 NaN                                                NaN   \n",
      "50%                 NaN                                                NaN   \n",
      "75%                 NaN                                                NaN   \n",
      "max                 NaN                                                NaN   \n",
      "\n",
      "                                         description_left     price_left  \\\n",
      "count                                                  81             19   \n",
      "unique                                                 80             19   \n",
      "top     \"GV-RX580GAMING-4GD, Boost: 1355MHz, Memory: 4...  \"USD\", \"4.85\"   \n",
      "freq                                                    2              1   \n",
      "mean                                                  NaN            NaN   \n",
      "std                                                   NaN            NaN   \n",
      "min                                                   NaN            NaN   \n",
      "25%                                                   NaN            NaN   \n",
      "50%                                                   NaN            NaN   \n",
      "75%                                                   NaN            NaN   \n",
      "max                                                   NaN            NaN   \n",
      "\n",
      "                                    specTableContent_left  \n",
      "count                                                  24  \n",
      "unique                                                 24  \n",
      "top      Specifications: Category Proliant HardDrive S...  \n",
      "freq                                                    1  \n",
      "mean                                                  NaN  \n",
      "std                                                   NaN  \n",
      "min                                                   NaN  \n",
      "25%                                                   NaN  \n",
      "50%                                                   NaN  \n",
      "75%                                                   NaN  \n",
      "max                                                   NaN  \n"
     ]
    }
   ],
   "source": [
    "# Basic data exploration\n",
    "print(\"\\nData Information:\")\n",
    "print(f\"Training data shape: {filtered_train_df.shape}\")\n",
    "print(\"\\nDescriptive Statistics:\")\n",
    "print(filtered_train_df.describe(include='all'))\n"
   ]
  },
  {
   "cell_type": "code",
   "execution_count": 8,
   "metadata": {},
   "outputs": [
    {
     "name": "stdout",
     "output_type": "stream",
     "text": [
      "\n",
      "Missing values in each column:\n",
      "label                     0\n",
      "id_left                   0\n",
      "category_left             0\n",
      "cluster_id_left           0\n",
      "brand_left               41\n",
      "title_left                0\n",
      "description_left         19\n",
      "price_left               81\n",
      "specTableContent_left    76\n",
      "dtype: int64\n",
      "\n",
      "Label distribution:\n",
      "label\n",
      "0    86\n",
      "1    14\n",
      "Name: count, dtype: int64\n"
     ]
    }
   ],
   "source": [
    "# Check for missing values\n",
    "print(\"\\nMissing values in each column:\")\n",
    "print(filtered_train_df.isnull().sum())\n",
    "\n",
    "# Check label distribution (if label is available)\n",
    "if 'label' in filtered_train_df.columns:\n",
    "    print(\"\\nLabel distribution:\")\n",
    "    print(filtered_train_df['label'].value_counts())"
   ]
  },
  {
   "cell_type": "code",
   "execution_count": 9,
   "metadata": {},
   "outputs": [],
   "source": [
    "import re\n",
    "import nltk\n",
    "from nltk.tokenize import word_tokenize\n",
    "from nltk.corpus import stopwords\n",
    "from nltk.stem import WordNetLemmatizer"
   ]
  },
  {
   "cell_type": "code",
   "execution_count": 10,
   "metadata": {},
   "outputs": [],
   "source": [
    "# Download NLTK resources if not already available\n",
    "import nltk\n",
    "try:\n",
    "    nltk.data.find('tokenizers/punkt')\n",
    "except LookupError:\n",
    "    nltk.download('punkt')\n",
    "try:\n",
    "    nltk.data.find('tokenizers/punkt_tab')\n",
    "except LookupError:\n",
    "    nltk.download('punkt_tab')\n",
    "try:\n",
    "    nltk.data.find('corpora/stopwords')\n",
    "except LookupError:\n",
    "    nltk.download('stopwords')\n",
    "try:\n",
    "    nltk.data.find('corpora/wordnet')\n",
    "except LookupError:\n",
    "    nltk.download('wordnet')"
   ]
  },
  {
   "cell_type": "code",
   "execution_count": 11,
   "metadata": {},
   "outputs": [
    {
     "name": "stdout",
     "output_type": "stream",
     "text": [
      "\n",
      "Preprocessing text columns...\n"
     ]
    }
   ],
   "source": [
    "# Data preprocessing function\n",
    "def preprocess_text(text):\n",
    "    if pd.isna(text):\n",
    "        return \"\"\n",
    "    \n",
    "    # Convert to lowercase\n",
    "    text = text.lower()\n",
    "    \n",
    "    # Remove HTML tags\n",
    "    text = re.sub(r'<.*?>', '', text)\n",
    "    \n",
    "    # Remove special characters and numbers\n",
    "    text = re.sub(r'[^a-zA-Z\\s]', '', text)\n",
    "    \n",
    "    # Tokenize\n",
    "    tokens = word_tokenize(text)\n",
    "    \n",
    "    # Remove stopwords\n",
    "    stop_words = set(stopwords.words('english'))\n",
    "    tokens = [word for word in tokens if word not in stop_words]\n",
    "    \n",
    "    # Lemmatize\n",
    "    lemmatizer = WordNetLemmatizer()\n",
    "    tokens = [lemmatizer.lemmatize(word) for word in tokens]\n",
    "    \n",
    "    # Join tokens back into text\n",
    "    text = ' '.join(tokens)\n",
    "    \n",
    "    return text\n",
    "\n",
    "# Apply preprocessing to relevant columns\n",
    "print(\"\\nPreprocessing text columns...\")\n",
    "train_df['clean_title'] = train_df['title'].apply(preprocess_text)\n",
    "train_df['clean_description'] = train_df['description'].apply(preprocess_text)\n",
    "train_df['clean_brand'] = train_df['brand'].apply(preprocess_text)"
   ]
  },
  {
   "cell_type": "code",
   "execution_count": 12,
   "metadata": {},
   "outputs": [],
   "source": [
    "# Create a combined text field for modeling\n",
    "train_df['combined_text'] = train_df['clean_title'] + ' ' + train_df['clean_description'] + ' ' + train_df['clean_brand']\n"
   ]
  },
  {
   "cell_type": "code",
   "execution_count": 13,
   "metadata": {},
   "outputs": [
    {
     "name": "stdout",
     "output_type": "stream",
     "text": [
      "Dataset shape after preprocessing: (100, 13)\n"
     ]
    }
   ],
   "source": [
    "# Remove rows with empty combined text\n",
    "train_df = train_df[train_df['combined_text'].str.strip() != '']\n",
    "print(f\"Dataset shape after preprocessing: {train_df.shape}\")"
   ]
  },
  {
   "cell_type": "code",
   "execution_count": 14,
   "metadata": {},
   "outputs": [],
   "source": [
    "from sklearn.preprocessing import LabelEncoder"
   ]
  },
  {
   "cell_type": "code",
   "execution_count": 15,
   "metadata": {},
   "outputs": [
    {
     "name": "stdout",
     "output_type": "stream",
     "text": [
      "Number of unique categories: 5\n"
     ]
    }
   ],
   "source": [
    "# Create a label encoder for categories\n",
    "label_encoder = LabelEncoder()\n",
    "train_df['category_encoded'] = label_encoder.fit_transform(train_df['category'])\n",
    "num_categories = len(label_encoder.classes_)\n",
    "print(f\"Number of unique categories: {num_categories}\")"
   ]
  },
  {
   "cell_type": "code",
   "execution_count": 16,
   "metadata": {},
   "outputs": [],
   "source": [
    "# Define a custom dataset class\n",
    "class ProductDataset(Dataset):\n",
    "    def __init__(self, texts, labels, tokenizer, max_length=128):\n",
    "        self.texts = texts\n",
    "        self.labels = labels\n",
    "        self.tokenizer = tokenizer\n",
    "        self.max_length = max_length\n",
    "        \n",
    "    def __len__(self):\n",
    "        return len(self.texts)\n",
    "    \n",
    "    def __getitem__(self, idx):\n",
    "        text = self.texts[idx]\n",
    "        label = self.labels[idx]\n",
    "        \n",
    "        encoding = self.tokenizer(\n",
    "            text,\n",
    "            truncation=True,\n",
    "            padding='max_length',\n",
    "            max_length=self.max_length,\n",
    "            return_tensors='pt'\n",
    "        )\n",
    "        \n",
    "        return {\n",
    "            'input_ids': encoding['input_ids'].flatten(),\n",
    "            'attention_mask': encoding['attention_mask'].flatten(),\n",
    "            'label': torch.tensor(label, dtype=torch.long)\n",
    "        }\n",
    "\n"
   ]
  },
  {
   "cell_type": "code",
   "execution_count": 17,
   "metadata": {},
   "outputs": [],
   "source": [
    "# Split data into train and validation sets\n",
    "train_texts, val_texts, train_labels, val_labels = train_test_split(\n",
    "    train_df['combined_text'].tolist(),\n",
    "    train_df['category_encoded'].tolist(),\n",
    "    test_size=0.2,\n",
    "    random_state=42\n",
    ")"
   ]
  },
  {
   "cell_type": "code",
   "execution_count": 18,
   "metadata": {},
   "outputs": [],
   "source": [
    "from transformers import BertTokenizer\n",
    "from transformers import BertModel"
   ]
  },
  {
   "cell_type": "code",
   "execution_count": 19,
   "metadata": {},
   "outputs": [],
   "source": [
    "# Initialize tokenizer\n",
    "tokenizer = BertTokenizer.from_pretrained('bert-base-uncased')\n",
    "\n",
    "# Create datasets\n",
    "train_dataset = ProductDataset(train_texts, train_labels, tokenizer)\n",
    "val_dataset = ProductDataset(val_texts, val_labels, tokenizer)\n",
    "\n",
    "# Create data loaders\n",
    "batch_size = 16\n",
    "train_dataloader = DataLoader(train_dataset, batch_size=batch_size, shuffle=True)\n",
    "val_dataloader = DataLoader(val_dataset, batch_size=batch_size)"
   ]
  },
  {
   "cell_type": "code",
   "execution_count": 20,
   "metadata": {},
   "outputs": [],
   "source": [
    "class IntentBasedProductSearch(torch.nn.Module):\n",
    "    def __init__(self, num_labels):\n",
    "        super(IntentBasedProductSearch, self).__init__()\n",
    "        self.bert = BertModel.from_pretrained('bert-base-uncased')\n",
    "        self.dropout = torch.nn.Dropout(0.1)\n",
    "        self.classifier = torch.nn.Linear(self.bert.config.hidden_size, num_labels)\n",
    "        \n",
    "    def forward(self, input_ids, attention_mask):\n",
    "        outputs = self.bert(input_ids=input_ids, attention_mask=attention_mask)\n",
    "        pooled_output = outputs.pooler_output\n",
    "        pooled_output = self.dropout(pooled_output)\n",
    "        logits = self.classifier(pooled_output)\n",
    "        return logits"
   ]
  },
  {
   "cell_type": "code",
   "execution_count": 21,
   "metadata": {},
   "outputs": [],
   "source": [
    "# Initialize the model\n",
    "device = torch.device(\"cuda\" if torch.cuda.is_available() else \"cpu\")\n",
    "model = IntentBasedProductSearch(num_categories)\n",
    "model.to(device)\n",
    "\n",
    "# Define optimizer and loss function\n",
    "optimizer = AdamW(model.parameters(), lr=2e-5)\n",
    "loss_fn = torch.nn.CrossEntropyLoss()"
   ]
  },
  {
   "cell_type": "code",
   "execution_count": 22,
   "metadata": {},
   "outputs": [],
   "source": [
    "# Training function\n",
    "def train_epoch(model, dataloader, optimizer, loss_fn, device):\n",
    "    model.train()\n",
    "    total_loss = 0\n",
    "    \n",
    "    progress_bar = tqdm(dataloader, desc=\"Training\")\n",
    "    for batch in progress_bar:\n",
    "        optimizer.zero_grad()\n",
    "        \n",
    "        input_ids = batch['input_ids'].to(device)\n",
    "        attention_mask = batch['attention_mask'].to(device)\n",
    "        labels = batch['label'].to(device)\n",
    "        \n",
    "        outputs = model(input_ids=input_ids, attention_mask=attention_mask)\n",
    "        loss = loss_fn(outputs, labels)\n",
    "        \n",
    "        loss.backward()\n",
    "        optimizer.step()\n",
    "        \n",
    "        total_loss += loss.item()\n",
    "        progress_bar.set_postfix({'loss': loss.item()})\n",
    "    \n",
    "    return total_loss / len(dataloader)\n",
    "\n",
    "# Evaluation function\n",
    "def evaluate(model, dataloader, loss_fn, device):\n",
    "    model.eval()\n",
    "    total_loss = 0\n",
    "    correct_predictions = 0\n",
    "    total_predictions = 0\n",
    "    \n",
    "    with torch.no_grad():\n",
    "        for batch in tqdm(dataloader, desc=\"Evaluating\"):\n",
    "            input_ids = batch['input_ids'].to(device)\n",
    "            attention_mask = batch['attention_mask'].to(device)\n",
    "            labels = batch['label'].to(device)\n",
    "            \n",
    "            outputs = model(input_ids=input_ids, attention_mask=attention_mask)\n",
    "            loss = loss_fn(outputs, labels)\n",
    "            \n",
    "            total_loss += loss.item()\n",
    "            \n",
    "            _, preds = torch.max(outputs, dim=1)\n",
    "            correct_predictions += (preds == labels).sum().item()\n",
    "            total_predictions += labels.size(0)\n",
    "    \n",
    "    accuracy = correct_predictions / total_predictions\n",
    "    avg_loss = total_loss / len(dataloader)\n",
    "    \n",
    "    return avg_loss, accuracy\n",
    "\n",
    "# Function to make predictions for intent-based search\n",
    "def search_products(query, model, tokenizer, label_encoder, df, device, top_k=5):\n",
    "    model.eval()\n",
    "    \n",
    "    # Preprocess the query\n",
    "    processed_query = preprocess_text(query)\n",
    "    \n",
    "    # Tokenize the query\n",
    "    encoding = tokenizer(\n",
    "        processed_query,\n",
    "        truncation=True,\n",
    "        padding='max_length',\n",
    "        max_length=128,\n",
    "        return_tensors='pt'\n",
    "    )\n",
    "    \n",
    "    input_ids = encoding['input_ids'].to(device)\n",
    "    attention_mask = encoding['attention_mask'].to(device)\n",
    "    \n",
    "    # Get model predictions\n",
    "    with torch.no_grad():\n",
    "        outputs = model(input_ids=input_ids, attention_mask=attention_mask)\n",
    "        probabilities = torch.nn.functional.softmax(outputs, dim=1)\n",
    "    \n",
    "    # Get top categories based on probabilities\n",
    "    top_probs, top_categories = torch.topk(probabilities, k=top_k)\n",
    "    \n",
    "    results = []\n",
    "    for i in range(top_k):\n",
    "        category_idx = top_categories[0][i].item()\n",
    "        category_name = label_encoder.inverse_transform([category_idx])[0]\n",
    "        probability = top_probs[0][i].item()\n",
    "        \n",
    "        # Get sample products from this category\n",
    "        category_products = df[df['category'] == category_name].head(3)\n",
    "        products = []\n",
    "        for _, product in category_products.iterrows():\n",
    "            products.append({\n",
    "                'title': product['title'],\n",
    "                'brand': product['brand'],\n",
    "                'price': product['price']\n",
    "            })\n",
    "        \n",
    "        results.append({\n",
    "            'category': category_name,\n",
    "            'probability': probability,\n",
    "            'sample_products': products\n",
    "        })\n",
    "    \n",
    "    return results\n"
   ]
  },
  {
   "cell_type": "code",
   "execution_count": 23,
   "metadata": {},
   "outputs": [
    {
     "name": "stdout",
     "output_type": "stream",
     "text": [
      "Starting training for 3 epochs...\n",
      "\n",
      "Epoch 1/3\n"
     ]
    },
    {
     "data": {
      "application/vnd.jupyter.widget-view+json": {
       "model_id": "d340d615cb8b4d998554801a71772c00",
       "version_major": 2,
       "version_minor": 0
      },
      "text/plain": [
       "Training:   0%|          | 0/5 [00:00<?, ?it/s]"
      ]
     },
     "metadata": {},
     "output_type": "display_data"
    },
    {
     "data": {
      "application/vnd.jupyter.widget-view+json": {
       "model_id": "170e54ccaca44503a037c9d2718ac122",
       "version_major": 2,
       "version_minor": 0
      },
      "text/plain": [
       "Evaluating:   0%|          | 0/2 [00:00<?, ?it/s]"
      ]
     },
     "metadata": {},
     "output_type": "display_data"
    },
    {
     "name": "stdout",
     "output_type": "stream",
     "text": [
      "Train Loss: 0.9343\n",
      "Validation Loss: 0.6170\n",
      "\n",
      "Epoch 2/3\n"
     ]
    },
    {
     "data": {
      "application/vnd.jupyter.widget-view+json": {
       "model_id": "16762956d92546d58ab6425a8e419373",
       "version_major": 2,
       "version_minor": 0
      },
      "text/plain": [
       "Training:   0%|          | 0/5 [00:00<?, ?it/s]"
      ]
     },
     "metadata": {},
     "output_type": "display_data"
    },
    {
     "data": {
      "application/vnd.jupyter.widget-view+json": {
       "model_id": "7abbf2f7fa594625965cc118fd57a2d0",
       "version_major": 2,
       "version_minor": 0
      },
      "text/plain": [
       "Evaluating:   0%|          | 0/2 [00:00<?, ?it/s]"
      ]
     },
     "metadata": {},
     "output_type": "display_data"
    },
    {
     "name": "stdout",
     "output_type": "stream",
     "text": [
      "Train Loss: 0.6615\n",
      "Validation Loss: 0.4869\n",
      "\n",
      "Epoch 3/3\n"
     ]
    },
    {
     "data": {
      "application/vnd.jupyter.widget-view+json": {
       "model_id": "5f0a64f956f54b7ab290856185b9acde",
       "version_major": 2,
       "version_minor": 0
      },
      "text/plain": [
       "Training:   0%|          | 0/5 [00:00<?, ?it/s]"
      ]
     },
     "metadata": {},
     "output_type": "display_data"
    },
    {
     "data": {
      "application/vnd.jupyter.widget-view+json": {
       "model_id": "5712616607224d5eb0dbc67161156035",
       "version_major": 2,
       "version_minor": 0
      },
      "text/plain": [
       "Evaluating:   0%|          | 0/2 [00:00<?, ?it/s]"
      ]
     },
     "metadata": {},
     "output_type": "display_data"
    },
    {
     "name": "stdout",
     "output_type": "stream",
     "text": [
      "Train Loss: 0.5469\n",
      "Validation Loss: 0.2927\n"
     ]
    }
   ],
   "source": [
    "# Train the model\n",
    "num_epochs = 3\n",
    "print(f\"Starting training for {num_epochs} epochs...\")\n",
    "\n",
    "train_losses = []\n",
    "val_losses = []\n",
    "val_accuracies = []\n",
    "\n",
    "for epoch in range(num_epochs):\n",
    "    print(f\"\\nEpoch {epoch + 1}/{num_epochs}\")\n",
    "    \n",
    "    # Training\n",
    "    train_loss = train_epoch(model, train_dataloader, optimizer, loss_fn, device)\n",
    "    train_losses.append(train_loss)\n",
    "    \n",
    "    # Validation\n",
    "    val_loss, val_accuracy = evaluate(model, val_dataloader, loss_fn, device)\n",
    "    val_losses.append(val_loss)\n",
    "    val_accuracies.append(val_accuracy)\n",
    "    \n",
    "    print(f\"Train Loss: {train_loss:.4f}\")\n",
    "    print(f\"Validation Loss: {val_loss:.4f}\")"
   ]
  },
  {
   "cell_type": "code",
   "execution_count": 24,
   "metadata": {},
   "outputs": [
    {
     "name": "stdout",
     "output_type": "stream",
     "text": [
      "Model saved as 'intent_product_search_model.pt'\n"
     ]
    }
   ],
   "source": [
    "# Save the model\n",
    "torch.save(model.state_dict(), 'intent_product_search_model.pt')\n",
    "print(\"Model saved as 'intent_product_search_model.pt'\")"
   ]
  },
  {
   "cell_type": "code",
   "execution_count": 25,
   "metadata": {},
   "outputs": [
    {
     "name": "stdout",
     "output_type": "stream",
     "text": [
      "Training metrics plot saved as 'training_metrics.png'\n"
     ]
    },
    {
     "data": {
      "image/png": "[encoded data removed]",
      "text/plain": [
       "<Figure size 1200x400 with 2 Axes>"
      ]
     },
     "metadata": {},
     "output_type": "display_data"
    }
   ],
   "source": [
    "# Plot training metrics\n",
    "plt.figure(figsize=(12, 4))\n",
    "\n",
    "plt.subplot(1, 2, 1)\n",
    "plt.plot(train_losses, label='Train Loss')\n",
    "plt.plot(val_losses, label='Validation Loss')\n",
    "plt.xlabel('Epoch')\n",
    "plt.ylabel('Loss')\n",
    "plt.legend()\n",
    "plt.title('Training and Validation Loss')\n",
    "\n",
    "plt.subplot(1, 2, 2)\n",
    "plt.plot(val_accuracies, label='Validation Accuracy')\n",
    "plt.xlabel('Epoch')\n",
    "plt.ylabel('Accuracy')\n",
    "plt.legend()\n",
    "plt.title('Validation Accuracy')\n",
    "\n",
    "plt.tight_layout()\n",
    "plt.savefig('training_metrics.png')\n",
    "print(\"Training metrics plot saved as 'training_metrics.png'\")"
   ]
  },
  {
   "cell_type": "code",
   "execution_count": 28,
   "metadata": {},
   "outputs": [
    {
     "data": {
      "text/html": [
       "<div>\n",
       "<style scoped>\n",
       "    .dataframe tbody tr th:only-of-type {\n",
       "        vertical-align: middle;\n",
       "    }\n",
       "\n",
       "    .dataframe tbody tr th {\n",
       "        vertical-align: top;\n",
       "    }\n",
       "\n",
       "    .dataframe thead th {\n",
       "        text-align: right;\n",
       "    }\n",
       "</style>\n",
       "<table border=\"1\" class=\"dataframe\">\n",
       "  <thead>\n",
       "    <tr style=\"text-align: right;\">\n",
       "      <th></th>\n",
       "      <th>label</th>\n",
       "      <th>id</th>\n",
       "      <th>category</th>\n",
       "      <th>cluster_id</th>\n",
       "      <th>brand</th>\n",
       "      <th>title</th>\n",
       "      <th>description</th>\n",
       "      <th>price</th>\n",
       "      <th>specTableContent</th>\n",
       "      <th>clean_title</th>\n",
       "      <th>clean_description</th>\n",
       "      <th>clean_brand</th>\n",
       "      <th>combined_text</th>\n",
       "      <th>category_encoded</th>\n",
       "    </tr>\n",
       "  </thead>\n",
       "  <tbody>\n",
       "    <tr>\n",
       "      <th>0</th>\n",
       "      <td>0</td>\n",
       "      <td>14219585</td>\n",
       "      <td>Computers_and_Accessories</td>\n",
       "      <td>521249</td>\n",
       "      <td>None</td>\n",
       "      <td>\"Apple - Mac Pro Desktop Computer 6-Core Inte...</td>\n",
       "      <td>\"Apple Mac Pro MD878LL/A Desktop: Designed for...</td>\n",
       "      <td>None</td>\n",
       "      <td>None</td>\n",
       "      <td>apple mac pro desktop computer core intel xeon...</td>\n",
       "      <td>apple mac pro mdlla desktop designed professio...</td>\n",
       "      <td></td>\n",
       "      <td>apple mac pro desktop computer core intel xeon...</td>\n",
       "      <td>2</td>\n",
       "    </tr>\n",
       "    <tr>\n",
       "      <th>1</th>\n",
       "      <td>0</td>\n",
       "      <td>12092252</td>\n",
       "      <td>Computers_and_Accessories</td>\n",
       "      <td>222681</td>\n",
       "      <td>\"HP Enterprise\"</td>\n",
       "      <td>\"DG0300FARVV HP 300-GB 6G 10K 2.5 DP SAS\", \"N...</td>\n",
       "      <td>\"Description:2 x 300GB 2.5-inch Serial Attache...</td>\n",
       "      <td>None</td>\n",
       "      <td>Specifications: Category Proliant HardDrive S...</td>\n",
       "      <td>dgfarvv hp gb g k dp sa null price dgfarvvpack...</td>\n",
       "      <td>description x gb inch serial attached scsi sas...</td>\n",
       "      <td>hp enterprise</td>\n",
       "      <td>dgfarvv hp gb g k dp sa null price dgfarvvpack...</td>\n",
       "      <td>2</td>\n",
       "    </tr>\n",
       "    <tr>\n",
       "      <th>2</th>\n",
       "      <td>1</td>\n",
       "      <td>10693245</td>\n",
       "      <td>Computers_and_Accessories</td>\n",
       "      <td>1404813</td>\n",
       "      <td>None</td>\n",
       "      <td>\"HP BL460c G7 Intel Xeon E5607 Processor Kit ...</td>\n",
       "      <td>None</td>\n",
       "      <td>None</td>\n",
       "      <td>Categorie Processors Merk HP Product HP BL460...</td>\n",
       "      <td>hp blc g intel xeon e processor kit prijzen nl...</td>\n",
       "      <td></td>\n",
       "      <td></td>\n",
       "      <td>hp blc g intel xeon e processor kit prijzen nl...</td>\n",
       "      <td>2</td>\n",
       "    </tr>\n",
       "    <tr>\n",
       "      <th>3</th>\n",
       "      <td>0</td>\n",
       "      <td>2042153</td>\n",
       "      <td>Computers_and_Accessories</td>\n",
       "      <td>212917</td>\n",
       "      <td>\"MIO\"</td>\n",
       "      <td>\"MIO SD1GB-C230 BXP 1GB 9p SD Secure Digital ...</td>\n",
       "      <td>\"SD1GB-C230 BXP 1GB 9p SD Secure Digital Card...</td>\n",
       "      <td>\"USD\", \"4.85\"</td>\n",
       "      <td>None</td>\n",
       "      <td>mio sdgbc bxp gb p sd secure digital card x us...</td>\n",
       "      <td>sdgbc bxp gb p sd secure digital card x used w...</td>\n",
       "      <td>mio</td>\n",
       "      <td>mio sdgbc bxp gb p sd secure digital card x us...</td>\n",
       "      <td>2</td>\n",
       "    </tr>\n",
       "    <tr>\n",
       "      <th>4</th>\n",
       "      <td>1</td>\n",
       "      <td>11210178</td>\n",
       "      <td>Computers_and_Accessories</td>\n",
       "      <td>150997</td>\n",
       "      <td>\"MSI\"</td>\n",
       "      <td>\"MSI - GeForce GTX 1080 8GB GAMING X 8G Video...</td>\n",
       "      <td>None</td>\n",
       "      <td>None</td>\n",
       "      <td>None</td>\n",
       "      <td>msi geforce gtx gb gaming x g video card card ...</td>\n",
       "      <td></td>\n",
       "      <td>msi</td>\n",
       "      <td>msi geforce gtx gb gaming x g video card card ...</td>\n",
       "      <td>2</td>\n",
       "    </tr>\n",
       "  </tbody>\n",
       "</table>\n",
       "</div>"
      ],
      "text/plain": [
       "   label        id                   category  cluster_id            brand  \\\n",
       "0      0  14219585  Computers_and_Accessories      521249             None   \n",
       "1      0  12092252  Computers_and_Accessories      222681  \"HP Enterprise\"   \n",
       "2      1  10693245  Computers_and_Accessories     1404813             None   \n",
       "3      0   2042153  Computers_and_Accessories      212917            \"MIO\"   \n",
       "4      1  11210178  Computers_and_Accessories      150997            \"MSI\"   \n",
       "\n",
       "                                               title  \\\n",
       "0   \"Apple - Mac Pro Desktop Computer 6-Core Inte...   \n",
       "1   \"DG0300FARVV HP 300-GB 6G 10K 2.5 DP SAS\", \"N...   \n",
       "2   \"HP BL460c G7 Intel Xeon E5607 Processor Kit ...   \n",
       "3   \"MIO SD1GB-C230 BXP 1GB 9p SD Secure Digital ...   \n",
       "4   \"MSI - GeForce GTX 1080 8GB GAMING X 8G Video...   \n",
       "\n",
       "                                         description          price  \\\n",
       "0  \"Apple Mac Pro MD878LL/A Desktop: Designed for...           None   \n",
       "1  \"Description:2 x 300GB 2.5-inch Serial Attache...           None   \n",
       "2                                               None           None   \n",
       "3   \"SD1GB-C230 BXP 1GB 9p SD Secure Digital Card...  \"USD\", \"4.85\"   \n",
       "4                                               None           None   \n",
       "\n",
       "                                    specTableContent  \\\n",
       "0                                               None   \n",
       "1   Specifications: Category Proliant HardDrive S...   \n",
       "2   Categorie Processors Merk HP Product HP BL460...   \n",
       "3                                               None   \n",
       "4                                               None   \n",
       "\n",
       "                                         clean_title  \\\n",
       "0  apple mac pro desktop computer core intel xeon...   \n",
       "1  dgfarvv hp gb g k dp sa null price dgfarvvpack...   \n",
       "2  hp blc g intel xeon e processor kit prijzen nl...   \n",
       "3  mio sdgbc bxp gb p sd secure digital card x us...   \n",
       "4  msi geforce gtx gb gaming x g video card card ...   \n",
       "\n",
       "                                   clean_description    clean_brand  \\\n",
       "0  apple mac pro mdlla desktop designed professio...                  \n",
       "1  description x gb inch serial attached scsi sas...  hp enterprise   \n",
       "2                                                                     \n",
       "3  sdgbc bxp gb p sd secure digital card x used w...            mio   \n",
       "4                                                               msi   \n",
       "\n",
       "                                       combined_text  category_encoded  \n",
       "0  apple mac pro desktop computer core intel xeon...                 2  \n",
       "1  dgfarvv hp gb g k dp sa null price dgfarvvpack...                 2  \n",
       "2  hp blc g intel xeon e processor kit prijzen nl...                 2  \n",
       "3  mio sdgbc bxp gb p sd secure digital card x us...                 2  \n",
       "4  msi geforce gtx gb gaming x g video card card ...                 2  "
      ]
     },
     "execution_count": 28,
     "metadata": {},
     "output_type": "execute_result"
    }
   ],
   "source": [
    "train_df.head()"
   ]
  },
  {
   "cell_type": "code",
   "execution_count": 30,
   "metadata": {},
   "outputs": [
    {
     "name": "stdout",
     "output_type": "stream",
     "text": [
      "\n",
      "Example intent-based product searches:\n",
      "\n",
      "Query: 'I need a new smartphone'\n",
      "Top categories:\n",
      "1. Computers_and_Accessories (Confidence: 0.6760)\n",
      "   Sample products:\n",
      "   -  \"Apple - Mac Pro Desktop Computer 6-Core Intel® Xeon® Processor 16GB Memory 256GB Flash Storage Black\"@en-US by None, Price: None\n",
      "   -  \"DG0300FARVV HP 300-GB 6G 10K 2.5 DP SAS\", \"Null\" Price DG0300FARVV-2Pack\" \"New DG0300FARVV SAS 2 Pack Wholesale by \"HP Enterprise\", Price: None\n",
      "   -  \"HP BL460c G7 Intel Xeon E5607 Processor Kit - Prijzen \"@NL Tweakers\"@NL by None, Price: None\n",
      "2. Camera_and_Photo (Confidence: 0.1305)\n",
      "   Sample products:\n",
      "   -  \"Sandisk Extreme microSDHC 64Gb Type 10\" 10 acheter et offres sur Scubastore\" by \"Sandisk\", Price: None\n",
      "3. Tools_and_Home_Improvement (Confidence: 0.0734)\n",
      "   Sample products:\n",
      "   -  \"48-32-4006\" \" Shop For Drill Bits. - Dale Electric Supply Co. by \"\n",
      "\t\t\t\t\t\t\t\t\t\t\t\t\t\tMILWAUKEE ELECTRIC TOOL CORP.\t\t\t\t\t\t\t\t\t\t\t\t\t\", Price: None\n",
      "4. Office_Products (Confidence: 0.0661)\n",
      "   Sample products:\n",
      "   -  \"HP ENVY Photo 7130 All-in-One-Drucker\"@de by None, Price: \"139.90\"@de, \"EUR\"@de\n",
      "   -  \"HP ENVY Impresora 5540 All-in-One\"@es All-in-One - Black Friday 2017 \"@es by None, Price: None\n",
      "5. Cellphones_and_Accessories (Confidence: 0.0540)\n",
      "   Sample products:\n",
      "   -  \"Apple MD819AM/A 2 Meter Lightning to USB Cable\"@en-US \"Home Audio Accessories - Page 411 | All Tech Toys\"@en-US by \"Apple\"@en-US, Price: None\n",
      "\n",
      "Query: 'looking for cheap laptops'\n",
      "Top categories:\n",
      "1. Computers_and_Accessories (Confidence: 0.6702)\n",
      "   Sample products:\n",
      "   -  \"Apple - Mac Pro Desktop Computer 6-Core Intel® Xeon® Processor 16GB Memory 256GB Flash Storage Black\"@en-US by None, Price: None\n",
      "   -  \"DG0300FARVV HP 300-GB 6G 10K 2.5 DP SAS\", \"Null\" Price DG0300FARVV-2Pack\" \"New DG0300FARVV SAS 2 Pack Wholesale by \"HP Enterprise\", Price: None\n",
      "   -  \"HP BL460c G7 Intel Xeon E5607 Processor Kit - Prijzen \"@NL Tweakers\"@NL by None, Price: None\n",
      "2. Camera_and_Photo (Confidence: 0.1145)\n",
      "   Sample products:\n",
      "   -  \"Sandisk Extreme microSDHC 64Gb Type 10\" 10 acheter et offres sur Scubastore\" by \"Sandisk\", Price: None\n",
      "3. Tools_and_Home_Improvement (Confidence: 0.0770)\n",
      "   Sample products:\n",
      "   -  \"48-32-4006\" \" Shop For Drill Bits. - Dale Electric Supply Co. by \"\n",
      "\t\t\t\t\t\t\t\t\t\t\t\t\t\tMILWAUKEE ELECTRIC TOOL CORP.\t\t\t\t\t\t\t\t\t\t\t\t\t\", Price: None\n",
      "4. Office_Products (Confidence: 0.0765)\n",
      "   Sample products:\n",
      "   -  \"HP ENVY Photo 7130 All-in-One-Drucker\"@de by None, Price: \"139.90\"@de, \"EUR\"@de\n",
      "   -  \"HP ENVY Impresora 5540 All-in-One\"@es All-in-One - Black Friday 2017 \"@es by None, Price: None\n",
      "5. Cellphones_and_Accessories (Confidence: 0.0618)\n",
      "   Sample products:\n",
      "   -  \"Apple MD819AM/A 2 Meter Lightning to USB Cable\"@en-US \"Home Audio Accessories - Page 411 | All Tech Toys\"@en-US by \"Apple\"@en-US, Price: None\n",
      "\n",
      "Query: 'best kitchen appliances for small spaces'\n",
      "Top categories:\n",
      "1. Computers_and_Accessories (Confidence: 0.6771)\n",
      "   Sample products:\n",
      "   -  \"Apple - Mac Pro Desktop Computer 6-Core Intel® Xeon® Processor 16GB Memory 256GB Flash Storage Black\"@en-US by None, Price: None\n",
      "   -  \"DG0300FARVV HP 300-GB 6G 10K 2.5 DP SAS\", \"Null\" Price DG0300FARVV-2Pack\" \"New DG0300FARVV SAS 2 Pack Wholesale by \"HP Enterprise\", Price: None\n",
      "   -  \"HP BL460c G7 Intel Xeon E5607 Processor Kit - Prijzen \"@NL Tweakers\"@NL by None, Price: None\n",
      "2. Camera_and_Photo (Confidence: 0.1215)\n",
      "   Sample products:\n",
      "   -  \"Sandisk Extreme microSDHC 64Gb Type 10\" 10 acheter et offres sur Scubastore\" by \"Sandisk\", Price: None\n",
      "3. Tools_and_Home_Improvement (Confidence: 0.0741)\n",
      "   Sample products:\n",
      "   -  \"48-32-4006\" \" Shop For Drill Bits. - Dale Electric Supply Co. by \"\n",
      "\t\t\t\t\t\t\t\t\t\t\t\t\t\tMILWAUKEE ELECTRIC TOOL CORP.\t\t\t\t\t\t\t\t\t\t\t\t\t\", Price: None\n",
      "4. Office_Products (Confidence: 0.0700)\n",
      "   Sample products:\n",
      "   -  \"HP ENVY Photo 7130 All-in-One-Drucker\"@de by None, Price: \"139.90\"@de, \"EUR\"@de\n",
      "   -  \"HP ENVY Impresora 5540 All-in-One\"@es All-in-One - Black Friday 2017 \"@es by None, Price: None\n",
      "5. Cellphones_and_Accessories (Confidence: 0.0573)\n",
      "   Sample products:\n",
      "   -  \"Apple MD819AM/A 2 Meter Lightning to USB Cable\"@en-US \"Home Audio Accessories - Page 411 | All Tech Toys\"@en-US by \"Apple\"@en-US, Price: None\n",
      "\n",
      "Query: 'comfortable running shoes'\n",
      "Top categories:\n",
      "1. Computers_and_Accessories (Confidence: 0.6344)\n",
      "   Sample products:\n",
      "   -  \"Apple - Mac Pro Desktop Computer 6-Core Intel® Xeon® Processor 16GB Memory 256GB Flash Storage Black\"@en-US by None, Price: None\n",
      "   -  \"DG0300FARVV HP 300-GB 6G 10K 2.5 DP SAS\", \"Null\" Price DG0300FARVV-2Pack\" \"New DG0300FARVV SAS 2 Pack Wholesale by \"HP Enterprise\", Price: None\n",
      "   -  \"HP BL460c G7 Intel Xeon E5607 Processor Kit - Prijzen \"@NL Tweakers\"@NL by None, Price: None\n",
      "2. Camera_and_Photo (Confidence: 0.1284)\n",
      "   Sample products:\n",
      "   -  \"Sandisk Extreme microSDHC 64Gb Type 10\" 10 acheter et offres sur Scubastore\" by \"Sandisk\", Price: None\n",
      "3. Tools_and_Home_Improvement (Confidence: 0.0875)\n",
      "   Sample products:\n",
      "   -  \"48-32-4006\" \" Shop For Drill Bits. - Dale Electric Supply Co. by \"\n",
      "\t\t\t\t\t\t\t\t\t\t\t\t\t\tMILWAUKEE ELECTRIC TOOL CORP.\t\t\t\t\t\t\t\t\t\t\t\t\t\", Price: None\n",
      "4. Office_Products (Confidence: 0.0804)\n",
      "   Sample products:\n",
      "   -  \"HP ENVY Photo 7130 All-in-One-Drucker\"@de by None, Price: \"139.90\"@de, \"EUR\"@de\n",
      "   -  \"HP ENVY Impresora 5540 All-in-One\"@es All-in-One - Black Friday 2017 \"@es by None, Price: None\n",
      "5. Cellphones_and_Accessories (Confidence: 0.0693)\n",
      "   Sample products:\n",
      "   -  \"Apple MD819AM/A 2 Meter Lightning to USB Cable\"@en-US \"Home Audio Accessories - Page 411 | All Tech Toys\"@en-US by \"Apple\"@en-US, Price: None\n"
     ]
    }
   ],
   "source": [
    "example_queries = [\n",
    "    \"I need a new smartphone\",\n",
    "    \"looking for cheap laptops\",\n",
    "    \"best kitchen appliances for small spaces\",\n",
    "    \"comfortable running shoes\"\n",
    "]\n",
    "\n",
    "print(\"\\nExample intent-based product searches:\")\n",
    "for query in example_queries:\n",
    "    print(f\"\\nQuery: '{query}'\")\n",
    "    results = search_products(query, model, tokenizer, label_encoder, train_df, device)\n",
    "    \n",
    "    print(\"Top categories:\")\n",
    "    for i, result in enumerate(results):\n",
    "        print(f\"{i+1}. {result['category']} (Confidence: {result['probability']:.4f})\")\n",
    "        print(\"   Sample products:\")\n",
    "        for product in result['sample_products']:\n",
    "            print(f\"   - {product['title']} by {product['brand']}, Price: {product['price']}\")"
   ]
  }
 ],
 "metadata": {
  "kernelspec": {
   "display_name": "venv",
   "language": "python",
   "name": "python3"
  },
  "language_info": {
   "codemirror_mode": {
    "name": "ipython",
    "version": 3
   },
   "file_extension": ".py",
   "mimetype": "text/x-python",
   "name": "python",
   "nbconvert_exporter": "python",
   "pygments_lexer": "ipython3",
   "version": "3.11.9"
  }
 },
 "nbformat": 4,
 "nbformat_minor": 2
}
